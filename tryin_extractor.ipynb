{
 "cells": [
  {
   "cell_type": "code",
   "execution_count": 1,
   "metadata": {},
   "outputs": [],
   "source": [
    "from config import IILEGAL_SHORTFORMS\n",
    "import re"
   ]
  },
  {
   "cell_type": "code",
   "execution_count": 2,
   "metadata": {},
   "outputs": [],
   "source": [
    "from utils.utilities import TextPreprocessor"
   ]
  },
  {
   "cell_type": "code",
   "execution_count": 3,
   "metadata": {},
   "outputs": [],
   "source": [
    "text = \"In addition to the SARS coronavirus (treated separately elsewhere in this volume), the complete genome sequences of six species in the coronavirus genus of the coronavirus family [avian infectious bronchitis virus-Beaudette strain (IBV-Beaudette), bovine coronavirus-ENT strain (BCoV-ENT), human coronavirus-229E strain (HCoV-229E), murine hepatitis virus-A59 strain (MHV-A59), porcine transmissible gastroenteritis-Purdue 115 strain (TGEV-Purdue 115), and porcine epidemic diarrhea virus-CV777 strain (PEDV-CV777)] have now been reported. Their lengths range from 27,317 nt for HCoV-229E to 31,357 nt for the murine hepatitis virus-A59, establishing the coronavirus genome as the largest known among RNA viruses. The basic organization of the coronavirus genome is shared with other members of the Nidovirus order (the torovirus genus, also in the family Coronaviridae, and members of the family Arteriviridae) in that the nonstructural proteins involved in proteolytic processing, genome replication, and subgenomic mRNA synthesis (transcription) (an estimated 14-16 end products for coronaviruses) are encoded within the 5'-proximal two-thirds of the genome on gene 1 and the (mostly) structural proteins are encoded within the 3'-proximal one-third of the genome (8-9 genes for coronaviruses). Genes for the major structural proteins in all coronaviruses occur in the 5' to 3' order as S, E, M, and N. The precise strategy used by coronaviruses for genome replication is not yet known, but many features have been established. This chapter focuses on some of the known features and presents some current questions regarding genome replication strategy, the cis-acting elements necessary for genome replication [as inferred from defective interfering (DI) RNA molecules], the minimum sequence requirements for autonomous replication of an RNA replicon, and the importance of gene order in genome replication.\""
   ]
  },
  {
   "cell_type": "code",
   "execution_count": 4,
   "metadata": {},
   "outputs": [],
   "source": [
    "t = TextPreprocessor(\n",
    "    remove_html_tags=True, print_lf_suggestions=False,\n",
    "    add_indicators_to_replaced_lf=True, illegal_shortforms=IILEGAL_SHORTFORMS\n",
    ")"
   ]
  },
  {
   "cell_type": "code",
   "execution_count": 5,
   "metadata": {},
   "outputs": [
    {
     "name": "stdout",
     "output_type": "stream",
     "text": [
      "['strain', 'coronavirus-229E strain', '229E strain', 'human coronavirus-229E strain', '229E strain']\n",
      "['interfering', 'defective interfering', 'from defective interfering', 'inferred from defective interfering']\n",
      "['strain', '115 strain', 'gastroenteritis-Purdue 115 strain', 'Purdue 115 strain', 'transmissible gastroenteritis-Purdue 115 strain', 'Purdue 115 strain', 'porcine transmissible gastroenteritis-Purdue 115 strain', 'Purdue 115 strain']\n",
      "['strain', 'virus-A59 strain', 'A59 strain', 'hepatitis virus-A59 strain', 'A59 strain', 'murine hepatitis virus-A59 strain', 'A59 strain']\n",
      "['strain', 'virus-CV777 strain', 'CV777 strain', 'diarrhea virus-CV777 strain', 'CV777 strain', 'epidemic diarrhea virus-CV777 strain', 'CV777 strain', 'porcine epidemic diarrhea virus-CV777 strain', 'CV777 strain', 'and porcine epidemic diarrhea virus-CV777 strain', 'CV777 strain']\n",
      "['strain', 'virus-Beaudette strain', 'Beaudette strain', 'bronchitis virus-Beaudette strain', 'Beaudette strain', 'infectious bronchitis virus-Beaudette strain', 'Beaudette strain', '[avian infectious bronchitis virus-Beaudette strain', 'Beaudette strain', 'family [avian infectious bronchitis virus-Beaudette strain', 'Beaudette strain', 'coronavirus family [avian infectious bronchitis virus-Beaudette strain', 'Beaudette strain', 'the coronavirus family [avian infectious bronchitis virus-Beaudette strain', 'Beaudette strain', 'of the coronavirus family [avian infectious bronchitis virus-Beaudette strain', 'Beaudette strain', 'genus of the coronavirus family [avian infectious bronchitis virus-Beaudette strain', 'Beaudette strain', 'coronavirus genus of the coronavirus family [avian infectious bronchitis virus-Beaudette strain', 'Beaudette strain', 'the coronavirus genus of the coronavirus family [avian infectious bronchitis virus-Beaudette strain', 'Beaudette strain', 'in the coronavirus genus of the coronavirus family [avian infectious bronchitis virus-Beaudette strain', 'Beaudette strain', 'species in the coronavirus genus of the coronavirus family [avian infectious bronchitis virus-Beaudette strain', 'Beaudette strain', 'six species in the coronavirus genus of the coronavirus family [avian infectious bronchitis virus-Beaudette strain', 'Beaudette strain', 'of six species in the coronavirus genus of the coronavirus family [avian infectious bronchitis virus-Beaudette strain', 'Beaudette strain', 'sequences of six species in the coronavirus genus of the coronavirus family [avian infectious bronchitis virus-Beaudette strain', 'Beaudette strain', 'genome sequences of six species in the coronavirus genus of the coronavirus family [avian infectious bronchitis virus-Beaudette strain', 'Beaudette strain']\n",
      "['strain', 'coronavirus-ENT strain', 'ENT strain', 'bovine coronavirus-ENT strain', 'ENT strain']\n"
     ]
    }
   ],
   "source": [
    "text2 = t.get_final_text(text)"
   ]
  },
  {
   "cell_type": "code",
   "execution_count": 6,
   "metadata": {},
   "outputs": [
    {
     "data": {
      "text/plain": [
       "\"In addition to the SARS coronavirus (treated separately elsewhere in this volume), the complete genome sequences of six species in the coronavirus genus of the coronavirus family [avian LFS:infectious bronchitis virus-Beaudette strain:LFE , LFS:bovine coronavirus-ENT strain:LFE , LFS:human coronavirus-229E strain:LFE , LFS:murine hepatitis virus-A59 strain:LFE , porcine transmissible gastroenteritis-Purdue 115 strain LFS:TGEV-Purdue 115:LFE , and LFS:porcine epidemic diarrhea virus-CV777 strain:LFE ] have now been reported. Their lengths range from 27,317 nt for LFS:human coronavirus-229E strain:LFE to 31,357 nt for the murine hepatitis virus-A59, establishing the coronavirus genome as the largest known among RNA viruses. The basic organization of the coronavirus genome is shared with other members of the Nidovirus order (the torovirus genus, also in the family Coronaviridae, and members of the family Arteriviridae) in that the nonstructural proteins involved in proteolytic processing, genome replication, and subgenomic mRNA synthesis (transcription) (an estimated 14-16 end products for coronaviruses) are encoded within the 5'-proximal two-thirds of the genome on gene 1 and the (mostly) structural proteins are encoded within the 3'-proximal one-third of the genome (8-9 genes for coronaviruses). Genes for the major structural proteins in all coronaviruses occur in the 5' to 3' order as S, E, M, and N. The precise strategy used by coronaviruses for genome replication is not yet known, but many features have been established. This chapter focuses on some of the known features and presents some current questions regarding genome replication strategy, the cis-acting elements necessary for genome replication [as inferred from LFS:defective interfering:LFE RNA molecules], the minimum sequence requirements for autonomous replication of an RNA replicon, and the importance of gene order in genome replication.\""
      ]
     },
     "execution_count": 6,
     "metadata": {},
     "output_type": "execute_result"
    }
   ],
   "source": [
    "text2"
   ]
  },
  {
   "cell_type": "code",
   "execution_count": 7,
   "metadata": {},
   "outputs": [
    {
     "name": "stdout",
     "output_type": "stream",
     "text": [
      "['strain', 'coronavirus-229E strain', '229E strain', 'human coronavirus-229E strain', '229E strain']\n",
      "['interfering', 'defective interfering', 'from defective interfering', 'inferred from defective interfering']\n",
      "['strain', '115 strain', 'gastroenteritis-Purdue 115 strain', 'Purdue 115 strain', 'transmissible gastroenteritis-Purdue 115 strain', 'Purdue 115 strain', 'porcine transmissible gastroenteritis-Purdue 115 strain', 'Purdue 115 strain']\n",
      "['strain', 'virus-A59 strain', 'A59 strain', 'hepatitis virus-A59 strain', 'A59 strain', 'murine hepatitis virus-A59 strain', 'A59 strain']\n",
      "['strain', 'virus-CV777 strain', 'CV777 strain', 'diarrhea virus-CV777 strain', 'CV777 strain', 'epidemic diarrhea virus-CV777 strain', 'CV777 strain', 'porcine epidemic diarrhea virus-CV777 strain', 'CV777 strain', 'and porcine epidemic diarrhea virus-CV777 strain', 'CV777 strain']\n",
      "['strain', 'virus-Beaudette strain', 'Beaudette strain', 'bronchitis virus-Beaudette strain', 'Beaudette strain', 'infectious bronchitis virus-Beaudette strain', 'Beaudette strain', '[avian infectious bronchitis virus-Beaudette strain', 'Beaudette strain', 'family [avian infectious bronchitis virus-Beaudette strain', 'Beaudette strain', 'coronavirus family [avian infectious bronchitis virus-Beaudette strain', 'Beaudette strain', 'the coronavirus family [avian infectious bronchitis virus-Beaudette strain', 'Beaudette strain', 'of the coronavirus family [avian infectious bronchitis virus-Beaudette strain', 'Beaudette strain', 'genus of the coronavirus family [avian infectious bronchitis virus-Beaudette strain', 'Beaudette strain', 'coronavirus genus of the coronavirus family [avian infectious bronchitis virus-Beaudette strain', 'Beaudette strain', 'the coronavirus genus of the coronavirus family [avian infectious bronchitis virus-Beaudette strain', 'Beaudette strain', 'in the coronavirus genus of the coronavirus family [avian infectious bronchitis virus-Beaudette strain', 'Beaudette strain', 'species in the coronavirus genus of the coronavirus family [avian infectious bronchitis virus-Beaudette strain', 'Beaudette strain', 'six species in the coronavirus genus of the coronavirus family [avian infectious bronchitis virus-Beaudette strain', 'Beaudette strain', 'of six species in the coronavirus genus of the coronavirus family [avian infectious bronchitis virus-Beaudette strain', 'Beaudette strain', 'sequences of six species in the coronavirus genus of the coronavirus family [avian infectious bronchitis virus-Beaudette strain', 'Beaudette strain', 'genome sequences of six species in the coronavirus genus of the coronavirus family [avian infectious bronchitis virus-Beaudette strain', 'Beaudette strain']\n",
      "['strain', 'coronavirus-ENT strain', 'ENT strain', 'bovine coronavirus-ENT strain', 'ENT strain']\n"
     ]
    },
    {
     "data": {
      "text/plain": [
       "[{'abbv': '(HCoV-229E)',\n",
       "  'long_form': 'human coronavirus-229E strain',\n",
       "  'lf_start_end_indices': (290, 319),\n",
       "  'abbv_start_end_indices': (320, 331)},\n",
       " {'abbv': '(DI)',\n",
       "  'long_form': 'defective interfering',\n",
       "  'lf_start_end_indices': (1732, 1753),\n",
       "  'abbv_start_end_indices': (1754, 1758)},\n",
       " {'abbv': '(TGEV-Purdue 115)',\n",
       "  'long_form': '',\n",
       "  'lf_start_end_indices': (None, None),\n",
       "  'abbv_start_end_indices': (434, 451)},\n",
       " {'abbv': '(MHV-A59)',\n",
       "  'long_form': 'murine hepatitis virus-A59 strain',\n",
       "  'lf_start_end_indices': (333, 366),\n",
       "  'abbv_start_end_indices': (367, 376)},\n",
       " {'abbv': '(PEDV-CV777)',\n",
       "  'long_form': 'porcine epidemic diarrhea virus-CV777 strain',\n",
       "  'lf_start_end_indices': (457, 501),\n",
       "  'abbv_start_end_indices': (502, 514)},\n",
       " {'abbv': '(IBV-Beaudette)',\n",
       "  'long_form': 'infectious bronchitis virus-Beaudette strain',\n",
       "  'lf_start_end_indices': (186, 230),\n",
       "  'abbv_start_end_indices': (231, 246)},\n",
       " {'abbv': '(BCoV-ENT)',\n",
       "  'long_form': 'bovine coronavirus-ENT strain',\n",
       "  'lf_start_end_indices': (248, 277),\n",
       "  'abbv_start_end_indices': (278, 288)}]"
      ]
     },
     "execution_count": 7,
     "metadata": {},
     "output_type": "execute_result"
    }
   ],
   "source": [
    "t.get_final_pairs(text)"
   ]
  },
  {
   "cell_type": "code",
   "execution_count": 8,
   "metadata": {},
   "outputs": [
    {
     "data": {
      "text/plain": [
       "(['(HCoV-229E)',\n",
       "  '(DI)',\n",
       "  '(TGEV-Purdue 115)',\n",
       "  '(MHV-A59)',\n",
       "  '(PEDV-CV777)',\n",
       "  '(IBV-Beaudette)',\n",
       "  '(BCoV-ENT)'],\n",
       " [(320, 331),\n",
       "  (1754, 1758),\n",
       "  (434, 451),\n",
       "  (367, 376),\n",
       "  (502, 514),\n",
       "  (231, 246),\n",
       "  (278, 288)])"
      ]
     },
     "execution_count": 8,
     "metadata": {},
     "output_type": "execute_result"
    }
   ],
   "source": [
    "t.identify_abbreviation(text)"
   ]
  },
  {
   "cell_type": "code",
   "execution_count": 15,
   "metadata": {},
   "outputs": [
    {
     "data": {
      "text/plain": [
       "\"In addition to the SARS coronavirus (treated separately elsewhere in this volume), the complete genome sequences of six species in the coronavirus genus of the coronavirus family [avian infectious bronchitis virus-Beaudette strain (IBV-Beaudette), bovine coronavirus-ENT strain (BCoV-ENT), human coronavirus-229E strain (HCoV-229E), murine hepatitis virus-A59 strain (MHV-A59), porcine transmissible gastroenteritis-Purdue 115 strain (TGEV-Purdue 115), and porcine epidemic diarrhea virus-CV777 strain (PEDV-CV777)] have now been reported. Their lengths range from 27,317 nt for HCoV-229E to 31,357 nt for the murine hepatitis virus-A59, establishing the coronavirus genome as the largest known among RNA viruses. The basic organization of the coronavirus genome is shared with other members of the Nidovirus order (the torovirus genus, also in the family Coronaviridae, and members of the family Arteriviridae) in that the nonstructural proteins involved in proteolytic processing, genome replication, and subgenomic mRNA synthesis (transcription) (an estimated 14-16 end products for coronaviruses) are encoded within the 5'-proximal two-thirds of the genome on gene 1 and the (mostly) structural proteins are encoded within the 3'-proximal one-third of the genome (8-9 genes for coronaviruses). Genes for the major structural proteins in all coronaviruses occur in the 5' to 3' order as S, E, M, and N. The precise strategy used by coronaviruses for genome replication is not yet known, but many features have been established. This chapter focuses on some of the known features and presents some current questions regarding genome replication strategy, the cis-acting elements necessary for genome replication [as inferred from defective interfering (DI) RNA molecules], the minimum sequence requirements for autonomous replication of an RNA replicon, and the importance of gene order in genome replication.\""
      ]
     },
     "execution_count": 15,
     "metadata": {},
     "output_type": "execute_result"
    }
   ],
   "source": [
    "text"
   ]
  },
  {
   "cell_type": "code",
   "execution_count": 29,
   "metadata": {},
   "outputs": [],
   "source": [
    "def identify_abbreviation(text):\n",
    "    shortform_pattern = r\"\\([\\w\\-\\.\\s]{2,}\\)\"\n",
    "    all_matches = re.findall(shortform_pattern, text)\n",
    "    all_matches = list(set(all_matches))\n",
    "    all_matches = [\n",
    "        mat for mat in all_matches if mat not in IILEGAL_SHORTFORMS\n",
    "    ]\n",
    "    all_match_indices = []\n",
    "    print(all_matches)\n",
    "    for match in all_matches.copy():\n",
    "        reduced_match = re.sub('[\\s0-9\\-]+', '', match)\n",
    "        if len(match.strip().split()) > 2:\n",
    "            all_matches.remove(match)\n",
    "            print(\"Removed because of rule 1: {}\".format(match))\n",
    "        elif 2 > len(reduced_match) or len(reduced_match) > 15:\n",
    "            all_matches.remove(match)\n",
    "            print(\"Removed because of rule 2: {}\".format(match))\n",
    "        elif len(re.findall(\"[A-Z]+\", match)) < 1:\n",
    "            all_matches.remove(match)\n",
    "            print(\"Removed because of rule 3: {}\".format(match))\n",
    "        else:\n",
    "            start_index = text.find(match)\n",
    "            all_match_indices.append(\n",
    "                (start_index, start_index + len(match))\n",
    "            )\n",
    "    return all_matches, all_match_indices"
   ]
  },
  {
   "cell_type": "code",
   "execution_count": 30,
   "metadata": {},
   "outputs": [
    {
     "name": "stdout",
     "output_type": "stream",
     "text": [
      "['(transcription)', '(MHV-A59)', '(DI)', '(BCoV-ENT)', '(TGEV-Purdue 115)', '(an estimated 14-16 end products for coronaviruses)', '(HCoV-229E)', '(8-9 genes for coronaviruses)', '(IBV-Beaudette)', '(mostly)', '(PEDV-CV777)', '(treated separately elsewhere in this volume)']\n",
      "Removed because of rule 3: (transcription)\n",
      "Removed because of rule 1: (an estimated 14-16 end products for coronaviruses)\n",
      "Removed because of rule 1: (8-9 genes for coronaviruses)\n",
      "Removed because of rule 3: (mostly)\n",
      "Removed because of rule 1: (treated separately elsewhere in this volume)\n"
     ]
    },
    {
     "data": {
      "text/plain": [
       "(['(MHV-A59)',\n",
       "  '(DI)',\n",
       "  '(BCoV-ENT)',\n",
       "  '(TGEV-Purdue 115)',\n",
       "  '(HCoV-229E)',\n",
       "  '(IBV-Beaudette)',\n",
       "  '(PEDV-CV777)'],\n",
       " [(367, 376),\n",
       "  (1754, 1758),\n",
       "  (278, 288),\n",
       "  (434, 451),\n",
       "  (320, 331),\n",
       "  (231, 246),\n",
       "  (502, 514)])"
      ]
     },
     "execution_count": 30,
     "metadata": {},
     "output_type": "execute_result"
    }
   ],
   "source": [
    "identify_abbreviation(text)"
   ]
  },
  {
   "cell_type": "code",
   "execution_count": null,
   "metadata": {},
   "outputs": [],
   "source": []
  }
 ],
 "metadata": {
  "kernelspec": {
   "display_name": "Python 3",
   "language": "python",
   "name": "python3"
  },
  "language_info": {
   "codemirror_mode": {
    "name": "ipython",
    "version": 3
   },
   "file_extension": ".py",
   "mimetype": "text/x-python",
   "name": "python",
   "nbconvert_exporter": "python",
   "pygments_lexer": "ipython3",
   "version": "3.7.3"
  }
 },
 "nbformat": 4,
 "nbformat_minor": 4
}
